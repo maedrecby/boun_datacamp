{
  "nbformat": 4,
  "nbformat_minor": 0,
  "metadata": {
    "colab": {
      "name": "Untitled0.ipynb",
      "provenance": [],
      "collapsed_sections": [],
      "authorship_tag": "ABX9TyPNUF264bXXnz7PxmuR9xuT",
      "include_colab_link": true
    },
    "kernelspec": {
      "name": "python3",
      "display_name": "Python 3"
    }
  },
  "cells": [
    {
      "cell_type": "markdown",
      "metadata": {
        "id": "view-in-github",
        "colab_type": "text"
      },
      "source": [
        "<a href=\"https://colab.research.google.com/github/maedrecby/boun_datacamp/blob/main/FahrenheitToCelsius.ipynb\" target=\"_parent\"><img src=\"https://colab.research.google.com/assets/colab-badge.svg\" alt=\"Open In Colab\"/></a>"
      ]
    },
    {
      "cell_type": "code",
      "metadata": {
        "id": "IbhBLIwuCQUe"
      },
      "source": [
        "import tensorflow as tf\n",
        "\n",
        "\n"
      ],
      "execution_count": 1,
      "outputs": []
    },
    {
      "cell_type": "code",
      "metadata": {
        "id": "cSTLVCFHZUBE"
      },
      "source": [
        "import numpy as np"
      ],
      "execution_count": 14,
      "outputs": []
    },
    {
      "cell_type": "code",
      "metadata": {
        "id": "CI_1hVgVC0cE"
      },
      "source": [
        "celsius = np.array(   [-40, -10, 0, 8, 15, 22, 38],         dtype=float)\n",
        "fahrenheit = np.array([-40, 14, 32, 46, 59, 72, 100], dtype=float)\n"
      ],
      "execution_count": 15,
      "outputs": []
    },
    {
      "cell_type": "code",
      "metadata": {
        "id": "-0oQQW1mZxWw",
        "outputId": "7decb838-942e-460e-8b82-945788ebe29a",
        "colab": {
          "base_uri": "https://localhost:8080/"
        }
      },
      "source": [
        "for c, f in zip(celsius,fahrenheit):\n",
        "  print(f\"{c} Celsius > {f} Fahrenheit\")"
      ],
      "execution_count": 16,
      "outputs": [
        {
          "output_type": "stream",
          "text": [
            "-40.0 Celsius > -40.0 Fahrenheit\n",
            "-10.0 Celsius > 14.0 Fahrenheit\n",
            "0.0 Celsius > 32.0 Fahrenheit\n",
            "8.0 Celsius > 46.0 Fahrenheit\n",
            "15.0 Celsius > 59.0 Fahrenheit\n",
            "22.0 Celsius > 72.0 Fahrenheit\n",
            "38.0 Celsius > 100.0 Fahrenheit\n"
          ],
          "name": "stdout"
        }
      ]
    },
    {
      "cell_type": "code",
      "metadata": {
        "id": "mqTUXLtidmoS"
      },
      "source": [
        "model = tf.keras.Sequential([tf.keras.layers.Dense(units=1, input_shape=[1])])"
      ],
      "execution_count": 18,
      "outputs": []
    },
    {
      "cell_type": "code",
      "metadata": {
        "id": "j5CTiL8sgcM5",
        "outputId": "bf6a8053-d807-4acf-c24b-65128815e8a8",
        "colab": {
          "base_uri": "https://localhost:8080/"
        }
      },
      "source": [
        "model.summary()"
      ],
      "execution_count": 19,
      "outputs": [
        {
          "output_type": "stream",
          "text": [
            "Model: \"sequential\"\n",
            "_________________________________________________________________\n",
            "Layer (type)                 Output Shape              Param #   \n",
            "=================================================================\n",
            "dense (Dense)                (None, 1)                 2         \n",
            "=================================================================\n",
            "Total params: 2\n",
            "Trainable params: 2\n",
            "Non-trainable params: 0\n",
            "_________________________________________________________________\n"
          ],
          "name": "stdout"
        }
      ]
    },
    {
      "cell_type": "code",
      "metadata": {
        "id": "lRUh54Fce6vv"
      },
      "source": [
        "model.compile(loss='mean_squared_error',\n",
        "              optimizer=tf.keras.optimizers.Adam(0.1))"
      ],
      "execution_count": 21,
      "outputs": []
    },
    {
      "cell_type": "code",
      "metadata": {
        "id": "N3F_Iffwqrav"
      },
      "source": [
        "history= model.fit(celsius, fahrenheit, epochs=500, verbose=False)\n"
      ],
      "execution_count": 24,
      "outputs": []
    },
    {
      "cell_type": "code",
      "metadata": {
        "id": "QRcNtOCDrael",
        "outputId": "f0bbd33e-b3e7-4535-a0d1-6742c943535c",
        "colab": {
          "base_uri": "https://localhost:8080/"
        }
      },
      "source": [
        "history"
      ],
      "execution_count": 26,
      "outputs": [
        {
          "output_type": "execute_result",
          "data": {
            "text/plain": [
              "<tensorflow.python.keras.callbacks.History at 0x7f13b3536828>"
            ]
          },
          "metadata": {
            "tags": []
          },
          "execution_count": 26
        }
      ]
    },
    {
      "cell_type": "code",
      "metadata": {
        "id": "u6M2yTkornC0",
        "outputId": "7aa77374-9cd9-4aac-8923-7bb7380522ed",
        "colab": {
          "base_uri": "https://localhost:8080/",
          "height": 296
        }
      },
      "source": [
        "import matplotlib.pyplot as plt\n",
        "plt.xlabel(\"Epoch Number\")\n",
        "plt.ylabel(\"Loss Magnitude\")\n",
        "plt.plot(history.history[\"loss\"])\n",
        "\n"
      ],
      "execution_count": 28,
      "outputs": [
        {
          "output_type": "execute_result",
          "data": {
            "text/plain": [
              "[<matplotlib.lines.Line2D at 0x7f13b347e278>]"
            ]
          },
          "metadata": {
            "tags": []
          },
          "execution_count": 28
        },
        {
          "output_type": "display_data",
          "data": {
            "image/png": "[encoded data removed]",
            "text/plain": [
              "<Figure size 432x288 with 1 Axes>"
            ]
          },
          "metadata": {
            "tags": [],
            "needs_background": "light"
          }
        }
      ]
    },
    {
      "cell_type": "code",
      "metadata": {
        "id": "WyWuZ99RsB2c",
        "outputId": "2b082a29-f8ee-44b5-edcc-3c5914593e76",
        "colab": {
          "base_uri": "https://localhost:8080/"
        }
      },
      "source": [
        "model.predict([100.0])"
      ],
      "execution_count": 29,
      "outputs": [
        {
          "output_type": "execute_result",
          "data": {
            "text/plain": [
              "array([[211.7474]], dtype=float32)"
            ]
          },
          "metadata": {
            "tags": []
          },
          "execution_count": 29
        }
      ]
    },
    {
      "cell_type": "code",
      "metadata": {
        "id": "UZK1VC_DtGv8",
        "outputId": "902c9b62-6af1-4b85-beb2-e7b2ced16487",
        "colab": {
          "base_uri": "https://localhost:8080/"
        }
      },
      "source": [
        "model.get_weights()"
      ],
      "execution_count": 30,
      "outputs": [
        {
          "output_type": "execute_result",
          "data": {
            "text/plain": [
              "[array([[1.7979494]], dtype=float32), array([31.952477], dtype=float32)]"
            ]
          },
          "metadata": {
            "tags": []
          },
          "execution_count": 30
        }
      ]
    }
  ]
}